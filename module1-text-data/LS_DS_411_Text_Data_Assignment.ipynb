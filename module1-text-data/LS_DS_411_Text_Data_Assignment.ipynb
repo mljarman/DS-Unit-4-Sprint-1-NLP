{
 "cells": [
  {
   "cell_type": "markdown",
   "metadata": {},
   "source": [
    "<img align=\"left\" src=\"https://lever-client-logos.s3.amazonaws.com/864372b1-534c-480e-acd5-9711f850815c-1524247202159.png\" width=200>\n",
    "<br></br>\n",
    "<br></br>\n",
    "\n",
    "# Natural Language Processing (NLP)\n",
    "## *Data Science Unit 4 Sprint 1 Assignment 1*\n",
    "\n",
    "Your goal in this assignment: find the attributes of the best & worst coffee shops in the dataset. The text is fairly raw: dates in the review, extra words in the `star_rating` column, etc. You'll probably want to clean that stuff up for a better analysis. \n",
    "\n",
    "Analyze the corpus of text using text visualizations of token frequency. Try cleaning the data as much as possible. Try the following techniques: \n",
    "- Lemmatization\n",
    "- Custom stopword removal\n",
    "\n",
    "Keep in mind the attributes of good tokens. Once you have a solid baseline, layer in the star rating in your visualization(s). Key part of this assignment - produce a write-up of the attributes of the best and worst coffee shops. Based on your analysis, what makes the best the best and the worst the worst. Use graphs and numbesr from your analysis to support your conclusions. There should be plenty of markdown cells! :coffee:"
   ]
  },
  {
   "cell_type": "code",
   "execution_count": 1,
   "metadata": {},
   "outputs": [
    {
     "data": {
      "image/jpeg": "[encoded data removed]",
      "text/html": [
       "\n",
       "        <iframe\n",
       "            width=\"400\"\n",
       "            height=\"300\"\n",
       "            src=\"https://www.youtube.com/embed/Jml7NVYm8cs\"\n",
       "            frameborder=\"0\"\n",
       "            allowfullscreen\n",
       "        ></iframe>\n",
       "        "
      ],
      "text/plain": [
       "<IPython.lib.display.YouTubeVideo at 0x10fe324e0>"
      ]
     },
     "execution_count": 1,
     "metadata": {},
     "output_type": "execute_result"
    }
   ],
   "source": [
    "from IPython.display import YouTubeVideo\n",
    "\n",
    "YouTubeVideo('Jml7NVYm8cs')"
   ]
  },
  {
   "cell_type": "code",
   "execution_count": 2,
   "metadata": {},
   "outputs": [
    {
     "data": {
      "text/plain": [
       "'/Users/maggie/Documents/Unit-4/DS-Unit-4-Sprint-1-NLP/module1-text-data'"
      ]
     },
     "execution_count": 2,
     "metadata": {},
     "output_type": "execute_result"
    }
   ],
   "source": [
    "%pwd"
   ]
  },
  {
   "cell_type": "code",
   "execution_count": 3,
   "metadata": {},
   "outputs": [
    {
     "data": {
      "text/html": [
       "<div>\n",
       "<style scoped>\n",
       "    .dataframe tbody tr th:only-of-type {\n",
       "        vertical-align: middle;\n",
       "    }\n",
       "\n",
       "    .dataframe tbody tr th {\n",
       "        vertical-align: top;\n",
       "    }\n",
       "\n",
       "    .dataframe thead th {\n",
       "        text-align: right;\n",
       "    }\n",
       "</style>\n",
       "<table border=\"1\" class=\"dataframe\">\n",
       "  <thead>\n",
       "    <tr style=\"text-align: right;\">\n",
       "      <th></th>\n",
       "      <th>coffee_shop_name</th>\n",
       "      <th>full_review_text</th>\n",
       "      <th>star_rating</th>\n",
       "    </tr>\n",
       "  </thead>\n",
       "  <tbody>\n",
       "    <tr>\n",
       "      <th>0</th>\n",
       "      <td>The Factory - Cafe With a Soul</td>\n",
       "      <td>11/25/2016 1 check-in Love love loved the atm...</td>\n",
       "      <td>5.0 star rating</td>\n",
       "    </tr>\n",
       "    <tr>\n",
       "      <th>1</th>\n",
       "      <td>The Factory - Cafe With a Soul</td>\n",
       "      <td>12/2/2016 Listed in Date Night: Austin, Ambia...</td>\n",
       "      <td>4.0 star rating</td>\n",
       "    </tr>\n",
       "    <tr>\n",
       "      <th>2</th>\n",
       "      <td>The Factory - Cafe With a Soul</td>\n",
       "      <td>11/30/2016 1 check-in Listed in Brunch Spots ...</td>\n",
       "      <td>4.0 star rating</td>\n",
       "    </tr>\n",
       "    <tr>\n",
       "      <th>3</th>\n",
       "      <td>The Factory - Cafe With a Soul</td>\n",
       "      <td>11/25/2016 Very cool decor! Good drinks Nice ...</td>\n",
       "      <td>2.0 star rating</td>\n",
       "    </tr>\n",
       "    <tr>\n",
       "      <th>4</th>\n",
       "      <td>The Factory - Cafe With a Soul</td>\n",
       "      <td>12/3/2016 1 check-in They are located within ...</td>\n",
       "      <td>4.0 star rating</td>\n",
       "    </tr>\n",
       "  </tbody>\n",
       "</table>\n",
       "</div>"
      ],
      "text/plain": [
       "                  coffee_shop_name  \\\n",
       "0  The Factory - Cafe With a Soul    \n",
       "1  The Factory - Cafe With a Soul    \n",
       "2  The Factory - Cafe With a Soul    \n",
       "3  The Factory - Cafe With a Soul    \n",
       "4  The Factory - Cafe With a Soul    \n",
       "\n",
       "                                    full_review_text        star_rating  \n",
       "0   11/25/2016 1 check-in Love love loved the atm...   5.0 star rating   \n",
       "1   12/2/2016 Listed in Date Night: Austin, Ambia...   4.0 star rating   \n",
       "2   11/30/2016 1 check-in Listed in Brunch Spots ...   4.0 star rating   \n",
       "3   11/25/2016 Very cool decor! Good drinks Nice ...   2.0 star rating   \n",
       "4   12/3/2016 1 check-in They are located within ...   4.0 star rating   "
      ]
     },
     "execution_count": 3,
     "metadata": {},
     "output_type": "execute_result"
    }
   ],
   "source": [
    "import pandas as pd\n",
    "\n",
    "url = \"https://raw.githubusercontent.com/LambdaSchool/DS-Unit-4-Sprint-1-NLP/master/module1-text-data/data/yelp_coffeeshop_review_data.csv\"\n",
    "\n",
    "shops = pd.read_csv(url)\n",
    "shops.head()"
   ]
  },
  {
   "cell_type": "code",
   "execution_count": 4,
   "metadata": {},
   "outputs": [
    {
     "data": {
      "text/plain": [
       "coffee_shop_name    0\n",
       "full_review_text    0\n",
       "star_rating         0\n",
       "dtype: int64"
      ]
     },
     "execution_count": 4,
     "metadata": {},
     "output_type": "execute_result"
    }
   ],
   "source": [
    "shops.isnull().sum()"
   ]
  },
  {
   "cell_type": "code",
   "execution_count": 5,
   "metadata": {},
   "outputs": [],
   "source": [
    "# create a column for dates:\n",
    "\n",
    "# create column with date:\n",
    "shops['date_of_review'] = shops['full_review_text'].str[:11]\n",
    "    \n",
    "# remove date from full_review_text:\n",
    "shops['full_review_text'] = shops['full_review_text'].str[11:]\n",
    "\n",
    "# remove leading white space:\n",
    "shops['full_review_text'] = shops['full_review_text'].str.strip()"
   ]
  },
  {
   "cell_type": "code",
   "execution_count": 6,
   "metadata": {},
   "outputs": [],
   "source": [
    "# remove 'star rating' from star_rating column:\n",
    "shops['star_rating'] = shops['star_rating'].str.replace('star rating', '')"
   ]
  },
  {
   "cell_type": "code",
   "execution_count": 7,
   "metadata": {},
   "outputs": [
    {
     "data": {
      "text/plain": [
       "coffee_shop_name    object\n",
       "full_review_text    object\n",
       "star_rating         object\n",
       "date_of_review      object\n",
       "dtype: object"
      ]
     },
     "execution_count": 7,
     "metadata": {},
     "output_type": "execute_result"
    }
   ],
   "source": [
    "shops.dtypes"
   ]
  },
  {
   "cell_type": "code",
   "execution_count": 8,
   "metadata": {},
   "outputs": [
    {
     "data": {
      "text/plain": [
       "coffee_shop_name     object\n",
       "full_review_text     object\n",
       "star_rating         float64\n",
       "date_of_review       object\n",
       "dtype: object"
      ]
     },
     "execution_count": 8,
     "metadata": {},
     "output_type": "execute_result"
    }
   ],
   "source": [
    "# change star_rating to float\n",
    "shops[['star_rating']] = shops[['star_rating']].apply(pd.to_numeric)\n",
    "shops.dtypes"
   ]
  },
  {
   "cell_type": "markdown",
   "metadata": {},
   "source": [
    "## How do we want to analyze these coffee shop tokens? \n",
    "\n",
    "- Overall Word / Token Count\n",
    "- View Counts by Rating \n",
    "- *Hint:* a 'bad' coffee shops has a rating betweeen 1 & 3 based on the distribution of ratings. A 'good' coffee shop is a 4 or 5. "
   ]
  },
  {
   "cell_type": "markdown",
   "metadata": {},
   "source": [
    "### Imports"
   ]
  },
  {
   "cell_type": "code",
   "execution_count": 9,
   "metadata": {},
   "outputs": [],
   "source": [
    "\"\"\"\n",
    "Import Statements\n",
    "\"\"\"\n",
    "\n",
    "# Base\n",
    "from collections import Counter\n",
    "import re\n",
    " \n",
    "import pandas as pd\n",
    "\n",
    "# Plotting\n",
    "import squarify\n",
    "import matplotlib.pyplot as plt\n",
    "import seaborn as sns\n",
    "\n",
    "# NLP Libraries\n",
    "import spacy\n",
    "from spacy.tokenizer import Tokenizer\n",
    "from nltk.stem import PorterStemmer\n",
    "\n",
    "nlp = spacy.load(\"en_core_web_lg\")"
   ]
  },
  {
   "cell_type": "code",
   "execution_count": 10,
   "metadata": {},
   "outputs": [],
   "source": [
    "import spacy\n",
    "from spacy.tokenizer import Tokenizer\n",
    "\n",
    "nlp = spacy.load(\"en_core_web_lg\")\n",
    "\n",
    "# Tokenizer\n",
    "tokenizer = Tokenizer(nlp.vocab)"
   ]
  },
  {
   "cell_type": "code",
   "execution_count": 11,
   "metadata": {},
   "outputs": [],
   "source": [
    "def count(docs):\n",
    "\n",
    "        word_counts = Counter()\n",
    "        appears_in = Counter()\n",
    "        \n",
    "        total_docs = len(docs)\n",
    "\n",
    "        for doc in docs:\n",
    "            word_counts.update(doc)\n",
    "            appears_in.update(set(doc))\n",
    "\n",
    "        temp = zip(word_counts.keys(), word_counts.values())\n",
    "        \n",
    "        wc = pd.DataFrame(temp, columns = ['word', 'count'])\n",
    "\n",
    "        wc['rank'] = wc['count'].rank(method='first', ascending=False)\n",
    "        total = wc['count'].sum()\n",
    "\n",
    "        wc['pct_total'] = wc['count'].apply(lambda x: x / total)\n",
    "        \n",
    "        wc = wc.sort_values(by='rank')\n",
    "        wc['cul_pct_total'] = wc['pct_total'].cumsum()\n",
    "\n",
    "        t2 = zip(appears_in.keys(), appears_in.values())\n",
    "        ac = pd.DataFrame(t2, columns=['word', 'appears_in'])\n",
    "        wc = ac.merge(wc, on='word')\n",
    "\n",
    "        wc['appears_in_pct'] = wc['appears_in'].apply(lambda x: x / total_docs)\n",
    "        \n",
    "        return wc.sort_values(by='rank')"
   ]
  },
  {
   "cell_type": "markdown",
   "metadata": {},
   "source": [
    "### Overall word/token count:"
   ]
  },
  {
   "cell_type": "code",
   "execution_count": 12,
   "metadata": {},
   "outputs": [],
   "source": [
    "# Tokenizer Pipe\n",
    "\n",
    "tokens_overall = []\n",
    "\n",
    "\"\"\"Create tokens\"\"\"\n",
    "for doc in tokenizer.pipe(shops['full_review_text'], batch_size=500):\n",
    "    doc_tokens = [token.text for token in doc]\n",
    "    tokens_overall.append(doc_tokens)\n",
    "shops['tokens'] = tokens_overall"
   ]
  },
  {
   "cell_type": "code",
   "execution_count": 13,
   "metadata": {},
   "outputs": [
    {
     "data": {
      "text/plain": [
       "0    [1, check-in, Love, love, loved, the, atmosphe...\n",
       "1    [Listed, in, Date, Night:, Austin,, Ambiance, ...\n",
       "2    [1, check-in, Listed, in, Brunch, Spots, I, lo...\n",
       "3    [Very, cool, decor!, Good, drinks, Nice, seati...\n",
       "4    [1, check-in, They, are, located, within, the,...\n",
       "Name: tokens, dtype: object"
      ]
     },
     "execution_count": 13,
     "metadata": {},
     "output_type": "execute_result"
    }
   ],
   "source": [
    "shops['tokens'].head()"
   ]
  },
  {
   "cell_type": "code",
   "execution_count": 14,
   "metadata": {},
   "outputs": [
    {
     "data": {
      "text/html": [
       "<div>\n",
       "<style scoped>\n",
       "    .dataframe tbody tr th:only-of-type {\n",
       "        vertical-align: middle;\n",
       "    }\n",
       "\n",
       "    .dataframe tbody tr th {\n",
       "        vertical-align: top;\n",
       "    }\n",
       "\n",
       "    .dataframe thead th {\n",
       "        text-align: right;\n",
       "    }\n",
       "</style>\n",
       "<table border=\"1\" class=\"dataframe\">\n",
       "  <thead>\n",
       "    <tr style=\"text-align: right;\">\n",
       "      <th></th>\n",
       "      <th>word</th>\n",
       "      <th>appears_in</th>\n",
       "      <th>count</th>\n",
       "      <th>rank</th>\n",
       "      <th>pct_total</th>\n",
       "      <th>cul_pct_total</th>\n",
       "      <th>appears_in_pct</th>\n",
       "    </tr>\n",
       "  </thead>\n",
       "  <tbody>\n",
       "    <tr>\n",
       "      <th>17</th>\n",
       "      <td>the</td>\n",
       "      <td>6520</td>\n",
       "      <td>27779</td>\n",
       "      <td>1.0</td>\n",
       "      <td>0.035025</td>\n",
       "      <td>0.035025</td>\n",
       "      <td>0.856092</td>\n",
       "    </tr>\n",
       "    <tr>\n",
       "      <th>11</th>\n",
       "      <td>and</td>\n",
       "      <td>6804</td>\n",
       "      <td>25748</td>\n",
       "      <td>2.0</td>\n",
       "      <td>0.032464</td>\n",
       "      <td>0.067489</td>\n",
       "      <td>0.893382</td>\n",
       "    </tr>\n",
       "    <tr>\n",
       "      <th>22</th>\n",
       "      <td>a</td>\n",
       "      <td>6181</td>\n",
       "      <td>22084</td>\n",
       "      <td>3.0</td>\n",
       "      <td>0.027844</td>\n",
       "      <td>0.095333</td>\n",
       "      <td>0.811581</td>\n",
       "    </tr>\n",
       "    <tr>\n",
       "      <th>58</th>\n",
       "      <td>I</td>\n",
       "      <td>5447</td>\n",
       "      <td>19641</td>\n",
       "      <td>4.0</td>\n",
       "      <td>0.024764</td>\n",
       "      <td>0.120097</td>\n",
       "      <td>0.715205</td>\n",
       "    </tr>\n",
       "    <tr>\n",
       "      <th>47</th>\n",
       "      <td>to</td>\n",
       "      <td>5631</td>\n",
       "      <td>16904</td>\n",
       "      <td>5.0</td>\n",
       "      <td>0.021313</td>\n",
       "      <td>0.141411</td>\n",
       "      <td>0.739364</td>\n",
       "    </tr>\n",
       "    <tr>\n",
       "      <th>55</th>\n",
       "      <td></td>\n",
       "      <td>4343</td>\n",
       "      <td>14990</td>\n",
       "      <td>6.0</td>\n",
       "      <td>0.018900</td>\n",
       "      <td>0.160311</td>\n",
       "      <td>0.570247</td>\n",
       "    </tr>\n",
       "    <tr>\n",
       "      <th>12</th>\n",
       "      <td>of</td>\n",
       "      <td>5087</td>\n",
       "      <td>12495</td>\n",
       "      <td>7.0</td>\n",
       "      <td>0.015754</td>\n",
       "      <td>0.176065</td>\n",
       "      <td>0.667936</td>\n",
       "    </tr>\n",
       "    <tr>\n",
       "      <th>97</th>\n",
       "      <td>is</td>\n",
       "      <td>4955</td>\n",
       "      <td>11749</td>\n",
       "      <td>8.0</td>\n",
       "      <td>0.014814</td>\n",
       "      <td>0.190878</td>\n",
       "      <td>0.650604</td>\n",
       "    </tr>\n",
       "    <tr>\n",
       "      <th>13</th>\n",
       "      <td>was</td>\n",
       "      <td>3743</td>\n",
       "      <td>9539</td>\n",
       "      <td>9.0</td>\n",
       "      <td>0.012027</td>\n",
       "      <td>0.202905</td>\n",
       "      <td>0.491465</td>\n",
       "    </tr>\n",
       "    <tr>\n",
       "      <th>100</th>\n",
       "      <td>in</td>\n",
       "      <td>4429</td>\n",
       "      <td>8901</td>\n",
       "      <td>10.0</td>\n",
       "      <td>0.011223</td>\n",
       "      <td>0.214128</td>\n",
       "      <td>0.581539</td>\n",
       "    </tr>\n",
       "    <tr>\n",
       "      <th>66</th>\n",
       "      <td>for</td>\n",
       "      <td>4326</td>\n",
       "      <td>8244</td>\n",
       "      <td>11.0</td>\n",
       "      <td>0.010394</td>\n",
       "      <td>0.224523</td>\n",
       "      <td>0.568015</td>\n",
       "    </tr>\n",
       "    <tr>\n",
       "      <th>15</th>\n",
       "      <td>coffee</td>\n",
       "      <td>3987</td>\n",
       "      <td>7314</td>\n",
       "      <td>12.0</td>\n",
       "      <td>0.009222</td>\n",
       "      <td>0.233744</td>\n",
       "      <td>0.523503</td>\n",
       "    </tr>\n",
       "    <tr>\n",
       "      <th>238</th>\n",
       "      <td>The</td>\n",
       "      <td>3892</td>\n",
       "      <td>6757</td>\n",
       "      <td>13.0</td>\n",
       "      <td>0.008519</td>\n",
       "      <td>0.242264</td>\n",
       "      <td>0.511029</td>\n",
       "    </tr>\n",
       "    <tr>\n",
       "      <th>73</th>\n",
       "      <td>it</td>\n",
       "      <td>3448</td>\n",
       "      <td>6369</td>\n",
       "      <td>14.0</td>\n",
       "      <td>0.008030</td>\n",
       "      <td>0.250294</td>\n",
       "      <td>0.452731</td>\n",
       "    </tr>\n",
       "    <tr>\n",
       "      <th>120</th>\n",
       "      <td>with</td>\n",
       "      <td>3450</td>\n",
       "      <td>6103</td>\n",
       "      <td>15.0</td>\n",
       "      <td>0.007695</td>\n",
       "      <td>0.257989</td>\n",
       "      <td>0.452994</td>\n",
       "    </tr>\n",
       "    <tr>\n",
       "      <th>9</th>\n",
       "      <td>but</td>\n",
       "      <td>3516</td>\n",
       "      <td>5701</td>\n",
       "      <td>16.0</td>\n",
       "      <td>0.007188</td>\n",
       "      <td>0.265177</td>\n",
       "      <td>0.461660</td>\n",
       "    </tr>\n",
       "    <tr>\n",
       "      <th>53</th>\n",
       "      <td>that</td>\n",
       "      <td>3083</td>\n",
       "      <td>5607</td>\n",
       "      <td>17.0</td>\n",
       "      <td>0.007070</td>\n",
       "      <td>0.272247</td>\n",
       "      <td>0.404806</td>\n",
       "    </tr>\n",
       "    <tr>\n",
       "      <th>1</th>\n",
       "      <td>my</td>\n",
       "      <td>2958</td>\n",
       "      <td>5004</td>\n",
       "      <td>18.0</td>\n",
       "      <td>0.006309</td>\n",
       "      <td>0.278556</td>\n",
       "      <td>0.388393</td>\n",
       "    </tr>\n",
       "    <tr>\n",
       "      <th>81</th>\n",
       "      <td>you</td>\n",
       "      <td>2675</td>\n",
       "      <td>4966</td>\n",
       "      <td>19.0</td>\n",
       "      <td>0.006261</td>\n",
       "      <td>0.284817</td>\n",
       "      <td>0.351234</td>\n",
       "    </tr>\n",
       "    <tr>\n",
       "      <th>40</th>\n",
       "      <td>on</td>\n",
       "      <td>3124</td>\n",
       "      <td>4937</td>\n",
       "      <td>20.0</td>\n",
       "      <td>0.006225</td>\n",
       "      <td>0.291042</td>\n",
       "      <td>0.410189</td>\n",
       "    </tr>\n",
       "  </tbody>\n",
       "</table>\n",
       "</div>"
      ],
      "text/plain": [
       "       word  appears_in  count  rank  pct_total  cul_pct_total  appears_in_pct\n",
       "17      the        6520  27779   1.0   0.035025       0.035025        0.856092\n",
       "11      and        6804  25748   2.0   0.032464       0.067489        0.893382\n",
       "22        a        6181  22084   3.0   0.027844       0.095333        0.811581\n",
       "58        I        5447  19641   4.0   0.024764       0.120097        0.715205\n",
       "47       to        5631  16904   5.0   0.021313       0.141411        0.739364\n",
       "55                 4343  14990   6.0   0.018900       0.160311        0.570247\n",
       "12       of        5087  12495   7.0   0.015754       0.176065        0.667936\n",
       "97       is        4955  11749   8.0   0.014814       0.190878        0.650604\n",
       "13      was        3743   9539   9.0   0.012027       0.202905        0.491465\n",
       "100      in        4429   8901  10.0   0.011223       0.214128        0.581539\n",
       "66      for        4326   8244  11.0   0.010394       0.224523        0.568015\n",
       "15   coffee        3987   7314  12.0   0.009222       0.233744        0.523503\n",
       "238     The        3892   6757  13.0   0.008519       0.242264        0.511029\n",
       "73       it        3448   6369  14.0   0.008030       0.250294        0.452731\n",
       "120    with        3450   6103  15.0   0.007695       0.257989        0.452994\n",
       "9       but        3516   5701  16.0   0.007188       0.265177        0.461660\n",
       "53     that        3083   5607  17.0   0.007070       0.272247        0.404806\n",
       "1        my        2958   5004  18.0   0.006309       0.278556        0.388393\n",
       "81      you        2675   4966  19.0   0.006261       0.284817        0.351234\n",
       "40       on        3124   4937  20.0   0.006225       0.291042        0.410189"
      ]
     },
     "execution_count": 14,
     "metadata": {},
     "output_type": "execute_result"
    }
   ],
   "source": [
    "wc_overall = count(shops['tokens'])\n",
    "wc_overall.head(20)"
   ]
  },
  {
   "cell_type": "code",
   "execution_count": 15,
   "metadata": {},
   "outputs": [
    {
     "data": {
      "image/png": "[encoded data removed]",
      "text/plain": [
       "<Figure size 432x288 with 1 Axes>"
      ]
     },
     "metadata": {
      "needs_background": "light"
     },
     "output_type": "display_data"
    }
   ],
   "source": [
    "import squarify\n",
    "import matplotlib.pyplot as plt\n",
    "\n",
    "wc_top20 = wc_overall[wc_overall['rank'] <= 20]\n",
    "\n",
    "squarify.plot(sizes=wc_top20['pct_total'], label=wc_top20['word'], alpha=.8 )\n",
    "plt.axis('off')\n",
    "plt.title('Top Words Overall')\n",
    "plt.show()"
   ]
  },
  {
   "cell_type": "markdown",
   "metadata": {},
   "source": [
    "### Using Stop Words:"
   ]
  },
  {
   "cell_type": "code",
   "execution_count": 62,
   "metadata": {},
   "outputs": [],
   "source": [
    "STOP_WORDS = nlp.Defaults.stop_words.union(['I', 'i', ' ', 'coffee', 'Coffee','shop', \n",
    "                                            'Shop', '.', ',', '-', 'austin', 'Austin',\n",
    "                                            '1', 'place', 'get'])"
   ]
  },
  {
   "cell_type": "code",
   "execution_count": 63,
   "metadata": {},
   "outputs": [],
   "source": [
    "tokens = []\n",
    "\n",
    "for doc in tokenizer.pipe(shops['full_review_text'], batch_size=500):\n",
    "    \n",
    "    doc_tokens = []\n",
    "    \n",
    "    for token in doc: \n",
    "        if token.text.lower() not in STOP_WORDS:\n",
    "            doc_tokens.append(token.text.lower())\n",
    "   \n",
    "    tokens.append(doc_tokens)\n",
    "    \n",
    "shops['tokens'] = tokens"
   ]
  },
  {
   "cell_type": "code",
   "execution_count": 64,
   "metadata": {},
   "outputs": [
    {
     "data": {
      "text/plain": [
       "0    [check-in, love, love, loved, atmosphere!, cor...\n",
       "1    [listed, date, night:, austin,, ambiance, beau...\n",
       "2    [check-in, listed, brunch, spots, loved, eclec...\n",
       "3    [cool, decor!, good, drinks, nice, seating, ho...\n",
       "4    [check-in, located, northcross, mall, shopping...\n",
       "Name: tokens, dtype: object"
      ]
     },
     "execution_count": 64,
     "metadata": {},
     "output_type": "execute_result"
    }
   ],
   "source": [
    "shops['tokens'].head()"
   ]
  },
  {
   "cell_type": "code",
   "execution_count": 65,
   "metadata": {},
   "outputs": [
    {
     "data": {
      "text/html": [
       "<div>\n",
       "<style scoped>\n",
       "    .dataframe tbody tr th:only-of-type {\n",
       "        vertical-align: middle;\n",
       "    }\n",
       "\n",
       "    .dataframe tbody tr th {\n",
       "        vertical-align: top;\n",
       "    }\n",
       "\n",
       "    .dataframe thead th {\n",
       "        text-align: right;\n",
       "    }\n",
       "</style>\n",
       "<table border=\"1\" class=\"dataframe\">\n",
       "  <thead>\n",
       "    <tr style=\"text-align: right;\">\n",
       "      <th></th>\n",
       "      <th>word</th>\n",
       "      <th>appears_in</th>\n",
       "      <th>count</th>\n",
       "      <th>rank</th>\n",
       "      <th>pct_total</th>\n",
       "      <th>cul_pct_total</th>\n",
       "      <th>appears_in_pct</th>\n",
       "    </tr>\n",
       "  </thead>\n",
       "  <tbody>\n",
       "    <tr>\n",
       "      <th>113</th>\n",
       "      <td>great</td>\n",
       "      <td>2407</td>\n",
       "      <td>3206</td>\n",
       "      <td>1.0</td>\n",
       "      <td>0.008510</td>\n",
       "      <td>0.008510</td>\n",
       "      <td>0.316045</td>\n",
       "    </tr>\n",
       "    <tr>\n",
       "      <th>275</th>\n",
       "      <td>it's</td>\n",
       "      <td>2056</td>\n",
       "      <td>3106</td>\n",
       "      <td>2.0</td>\n",
       "      <td>0.008244</td>\n",
       "      <td>0.016754</td>\n",
       "      <td>0.269958</td>\n",
       "    </tr>\n",
       "    <tr>\n",
       "      <th>173</th>\n",
       "      <td>like</td>\n",
       "      <td>2034</td>\n",
       "      <td>2902</td>\n",
       "      <td>3.0</td>\n",
       "      <td>0.007703</td>\n",
       "      <td>0.024457</td>\n",
       "      <td>0.267069</td>\n",
       "    </tr>\n",
       "    <tr>\n",
       "      <th>180</th>\n",
       "      <td>good</td>\n",
       "      <td>2073</td>\n",
       "      <td>2764</td>\n",
       "      <td>4.0</td>\n",
       "      <td>0.007336</td>\n",
       "      <td>0.031793</td>\n",
       "      <td>0.272190</td>\n",
       "    </tr>\n",
       "    <tr>\n",
       "      <th>16</th>\n",
       "      <td>check-in</td>\n",
       "      <td>1957</td>\n",
       "      <td>1961</td>\n",
       "      <td>5.0</td>\n",
       "      <td>0.005205</td>\n",
       "      <td>0.036998</td>\n",
       "      <td>0.256959</td>\n",
       "    </tr>\n",
       "    <tr>\n",
       "      <th>8</th>\n",
       "      <td>love</td>\n",
       "      <td>1428</td>\n",
       "      <td>1799</td>\n",
       "      <td>6.0</td>\n",
       "      <td>0.004775</td>\n",
       "      <td>0.041773</td>\n",
       "      <td>0.187500</td>\n",
       "    </tr>\n",
       "    <tr>\n",
       "      <th>334</th>\n",
       "      <td>i'm</td>\n",
       "      <td>1378</td>\n",
       "      <td>1786</td>\n",
       "      <td>7.0</td>\n",
       "      <td>0.004741</td>\n",
       "      <td>0.046514</td>\n",
       "      <td>0.180935</td>\n",
       "    </tr>\n",
       "    <tr>\n",
       "      <th>789</th>\n",
       "      <td>little</td>\n",
       "      <td>1230</td>\n",
       "      <td>1479</td>\n",
       "      <td>8.0</td>\n",
       "      <td>0.003926</td>\n",
       "      <td>0.050440</td>\n",
       "      <td>0.161502</td>\n",
       "    </tr>\n",
       "    <tr>\n",
       "      <th>345</th>\n",
       "      <td>i've</td>\n",
       "      <td>1148</td>\n",
       "      <td>1455</td>\n",
       "      <td>9.0</td>\n",
       "      <td>0.003862</td>\n",
       "      <td>0.054302</td>\n",
       "      <td>0.150735</td>\n",
       "    </tr>\n",
       "    <tr>\n",
       "      <th>304</th>\n",
       "      <td>don't</td>\n",
       "      <td>1130</td>\n",
       "      <td>1391</td>\n",
       "      <td>10.0</td>\n",
       "      <td>0.003692</td>\n",
       "      <td>0.057994</td>\n",
       "      <td>0.148372</td>\n",
       "    </tr>\n",
       "    <tr>\n",
       "      <th>462</th>\n",
       "      <td>food</td>\n",
       "      <td>1091</td>\n",
       "      <td>1362</td>\n",
       "      <td>11.0</td>\n",
       "      <td>0.003615</td>\n",
       "      <td>0.061609</td>\n",
       "      <td>0.143251</td>\n",
       "    </tr>\n",
       "    <tr>\n",
       "      <th>182</th>\n",
       "      <td>nice</td>\n",
       "      <td>1181</td>\n",
       "      <td>1361</td>\n",
       "      <td>12.0</td>\n",
       "      <td>0.003612</td>\n",
       "      <td>0.065221</td>\n",
       "      <td>0.155068</td>\n",
       "    </tr>\n",
       "    <tr>\n",
       "      <th>626</th>\n",
       "      <td>time</td>\n",
       "      <td>1099</td>\n",
       "      <td>1345</td>\n",
       "      <td>13.0</td>\n",
       "      <td>0.003570</td>\n",
       "      <td>0.068791</td>\n",
       "      <td>0.144301</td>\n",
       "    </tr>\n",
       "    <tr>\n",
       "      <th>32</th>\n",
       "      <td>pretty</td>\n",
       "      <td>1064</td>\n",
       "      <td>1337</td>\n",
       "      <td>14.0</td>\n",
       "      <td>0.003549</td>\n",
       "      <td>0.072340</td>\n",
       "      <td>0.139706</td>\n",
       "    </tr>\n",
       "    <tr>\n",
       "      <th>39</th>\n",
       "      <td>got</td>\n",
       "      <td>978</td>\n",
       "      <td>1245</td>\n",
       "      <td>15.0</td>\n",
       "      <td>0.003305</td>\n",
       "      <td>0.075645</td>\n",
       "      <td>0.128414</td>\n",
       "    </tr>\n",
       "    <tr>\n",
       "      <th>928</th>\n",
       "      <td>people</td>\n",
       "      <td>1015</td>\n",
       "      <td>1223</td>\n",
       "      <td>16.0</td>\n",
       "      <td>0.003246</td>\n",
       "      <td>0.078891</td>\n",
       "      <td>0.133272</td>\n",
       "    </tr>\n",
       "    <tr>\n",
       "      <th>552</th>\n",
       "      <td>come</td>\n",
       "      <td>1030</td>\n",
       "      <td>1192</td>\n",
       "      <td>17.0</td>\n",
       "      <td>0.003164</td>\n",
       "      <td>0.082055</td>\n",
       "      <td>0.135242</td>\n",
       "    </tr>\n",
       "    <tr>\n",
       "      <th>46</th>\n",
       "      <td>definitely</td>\n",
       "      <td>1010</td>\n",
       "      <td>1153</td>\n",
       "      <td>18.0</td>\n",
       "      <td>0.003060</td>\n",
       "      <td>0.085115</td>\n",
       "      <td>0.132616</td>\n",
       "    </tr>\n",
       "    <tr>\n",
       "      <th>433</th>\n",
       "      <td>best</td>\n",
       "      <td>1005</td>\n",
       "      <td>1150</td>\n",
       "      <td>19.0</td>\n",
       "      <td>0.003052</td>\n",
       "      <td>0.088168</td>\n",
       "      <td>0.131959</td>\n",
       "    </tr>\n",
       "    <tr>\n",
       "      <th>203</th>\n",
       "      <td>friendly</td>\n",
       "      <td>1102</td>\n",
       "      <td>1142</td>\n",
       "      <td>20.0</td>\n",
       "      <td>0.003031</td>\n",
       "      <td>0.091199</td>\n",
       "      <td>0.144695</td>\n",
       "    </tr>\n",
       "  </tbody>\n",
       "</table>\n",
       "</div>"
      ],
      "text/plain": [
       "           word  appears_in  count  rank  pct_total  cul_pct_total  \\\n",
       "113       great        2407   3206   1.0   0.008510       0.008510   \n",
       "275        it's        2056   3106   2.0   0.008244       0.016754   \n",
       "173        like        2034   2902   3.0   0.007703       0.024457   \n",
       "180        good        2073   2764   4.0   0.007336       0.031793   \n",
       "16     check-in        1957   1961   5.0   0.005205       0.036998   \n",
       "8          love        1428   1799   6.0   0.004775       0.041773   \n",
       "334         i'm        1378   1786   7.0   0.004741       0.046514   \n",
       "789      little        1230   1479   8.0   0.003926       0.050440   \n",
       "345        i've        1148   1455   9.0   0.003862       0.054302   \n",
       "304       don't        1130   1391  10.0   0.003692       0.057994   \n",
       "462        food        1091   1362  11.0   0.003615       0.061609   \n",
       "182        nice        1181   1361  12.0   0.003612       0.065221   \n",
       "626        time        1099   1345  13.0   0.003570       0.068791   \n",
       "32       pretty        1064   1337  14.0   0.003549       0.072340   \n",
       "39          got         978   1245  15.0   0.003305       0.075645   \n",
       "928      people        1015   1223  16.0   0.003246       0.078891   \n",
       "552        come        1030   1192  17.0   0.003164       0.082055   \n",
       "46   definitely        1010   1153  18.0   0.003060       0.085115   \n",
       "433        best        1005   1150  19.0   0.003052       0.088168   \n",
       "203    friendly        1102   1142  20.0   0.003031       0.091199   \n",
       "\n",
       "     appears_in_pct  \n",
       "113        0.316045  \n",
       "275        0.269958  \n",
       "173        0.267069  \n",
       "180        0.272190  \n",
       "16         0.256959  \n",
       "8          0.187500  \n",
       "334        0.180935  \n",
       "789        0.161502  \n",
       "345        0.150735  \n",
       "304        0.148372  \n",
       "462        0.143251  \n",
       "182        0.155068  \n",
       "626        0.144301  \n",
       "32         0.139706  \n",
       "39         0.128414  \n",
       "928        0.133272  \n",
       "552        0.135242  \n",
       "46         0.132616  \n",
       "433        0.131959  \n",
       "203        0.144695  "
      ]
     },
     "execution_count": 65,
     "metadata": {},
     "output_type": "execute_result"
    }
   ],
   "source": [
    "wc_overall = count(shops['tokens'])\n",
    "wc_overall.head(20)"
   ]
  },
  {
   "cell_type": "code",
   "execution_count": 66,
   "metadata": {},
   "outputs": [
    {
     "data": {
      "image/png": "[encoded data removed]",
      "text/plain": [
       "<Figure size 432x288 with 1 Axes>"
      ]
     },
     "metadata": {
      "needs_background": "light"
     },
     "output_type": "display_data"
    }
   ],
   "source": [
    "wc = count(shops['tokens'])\n",
    "\n",
    "wc_top20 = wc[wc['rank'] <= 20]\n",
    "\n",
    "squarify.plot(sizes=wc_top20['pct_total'], label=wc_top20['word'], alpha=.8 )\n",
    "plt.axis('off')\n",
    "plt.title('Top Words using Stop Words')\n",
    "plt.show()"
   ]
  },
  {
   "cell_type": "markdown",
   "metadata": {},
   "source": [
    "### Using Lemmatization:"
   ]
  },
  {
   "cell_type": "code",
   "execution_count": 67,
   "metadata": {},
   "outputs": [],
   "source": [
    "def get_lemmas(text):\n",
    "\n",
    "    lemmas = []\n",
    "    \n",
    "    doc = nlp(text)\n",
    "    \n",
    "    # Something goes here :P\n",
    "    for token in doc: \n",
    "        if ((token.text.lower() not in STOP_WORDS) and (token.is_punct == False)) and (token.pos_!= 'PRON'):\n",
    "            lemmas.append(token.lemma_)\n",
    "    \n",
    "    return lemmas"
   ]
  },
  {
   "cell_type": "code",
   "execution_count": 68,
   "metadata": {},
   "outputs": [],
   "source": [
    "shops['lemmas'] = shops['full_review_text'].apply(get_lemmas)"
   ]
  },
  {
   "cell_type": "code",
   "execution_count": 69,
   "metadata": {},
   "outputs": [
    {
     "data": {
      "text/plain": [
       "0    [check, love, love, love, atmosphere, corner, ...\n",
       "1    [list, Date, Night, Ambiance, beautiful, love,...\n",
       "2    [check, list, Brunch, Spots, love, eclectic, h...\n",
       "3    [cool, decor, good, drink, nice, seating, over...\n",
       "4    [check, locate, Northcross, mall, shopping, ce...\n",
       "Name: lemmas, dtype: object"
      ]
     },
     "execution_count": 69,
     "metadata": {},
     "output_type": "execute_result"
    }
   ],
   "source": [
    "shops['lemmas'].head()"
   ]
  },
  {
   "cell_type": "code",
   "execution_count": 70,
   "metadata": {},
   "outputs": [
    {
     "data": {
      "image/png": "[encoded data removed]",
      "text/plain": [
       "<Figure size 432x288 with 1 Axes>"
      ]
     },
     "metadata": {
      "needs_background": "light"
     },
     "output_type": "display_data"
    }
   ],
   "source": [
    "wc = count(shops['lemmas'])\n",
    "wc_top20 = wc[wc['rank'] <= 20]\n",
    "\n",
    "squarify.plot(sizes=wc_top20['pct_total'], label=wc_top20['word'], alpha=.8 )\n",
    "plt.axis('off')\n",
    "plt.title('Top Words using Lemmatization and Stop Words')\n",
    "plt.show()"
   ]
  },
  {
   "cell_type": "markdown",
   "metadata": {},
   "source": [
    "## Can visualize the words with the greatest difference in counts between 'good' & 'bad'?\n",
    "\n",
    "Couple Notes: \n",
    "- Rel. freq. instead of absolute counts b/c of different numbers of reviews\n",
    "- Only look at the top 5-10 words with the greatest differences\n"
   ]
  },
  {
   "cell_type": "code",
   "execution_count": 71,
   "metadata": {},
   "outputs": [
    {
     "data": {
      "text/html": [
       "<div>\n",
       "<style scoped>\n",
       "    .dataframe tbody tr th:only-of-type {\n",
       "        vertical-align: middle;\n",
       "    }\n",
       "\n",
       "    .dataframe tbody tr th {\n",
       "        vertical-align: top;\n",
       "    }\n",
       "\n",
       "    .dataframe thead th {\n",
       "        text-align: right;\n",
       "    }\n",
       "</style>\n",
       "<table border=\"1\" class=\"dataframe\">\n",
       "  <thead>\n",
       "    <tr style=\"text-align: right;\">\n",
       "      <th></th>\n",
       "      <th>word</th>\n",
       "      <th>appears_in</th>\n",
       "      <th>count</th>\n",
       "      <th>rank</th>\n",
       "      <th>pct_total</th>\n",
       "      <th>cul_pct_total</th>\n",
       "      <th>appears_in_pct</th>\n",
       "    </tr>\n",
       "  </thead>\n",
       "  <tbody>\n",
       "    <tr>\n",
       "      <th>200</th>\n",
       "      <td>good</td>\n",
       "      <td>2929</td>\n",
       "      <td>4370</td>\n",
       "      <td>1.0</td>\n",
       "      <td>0.016473</td>\n",
       "      <td>0.016473</td>\n",
       "      <td>0.477036</td>\n",
       "    </tr>\n",
       "    <tr>\n",
       "      <th>100</th>\n",
       "      <td>great</td>\n",
       "      <td>2470</td>\n",
       "      <td>3418</td>\n",
       "      <td>2.0</td>\n",
       "      <td>0.012884</td>\n",
       "      <td>0.029358</td>\n",
       "      <td>0.402280</td>\n",
       "    </tr>\n",
       "    <tr>\n",
       "      <th>35</th>\n",
       "      <td>check</td>\n",
       "      <td>2686</td>\n",
       "      <td>2941</td>\n",
       "      <td>3.0</td>\n",
       "      <td>0.011086</td>\n",
       "      <td>0.040444</td>\n",
       "      <td>0.437459</td>\n",
       "    </tr>\n",
       "    <tr>\n",
       "      <th>190</th>\n",
       "      <td>like</td>\n",
       "      <td>1677</td>\n",
       "      <td>2434</td>\n",
       "      <td>4.0</td>\n",
       "      <td>0.009175</td>\n",
       "      <td>0.049619</td>\n",
       "      <td>0.273127</td>\n",
       "    </tr>\n",
       "    <tr>\n",
       "      <th>12</th>\n",
       "      <td>love</td>\n",
       "      <td>1584</td>\n",
       "      <td>2077</td>\n",
       "      <td>5.0</td>\n",
       "      <td>0.007829</td>\n",
       "      <td>0.057449</td>\n",
       "      <td>0.257980</td>\n",
       "    </tr>\n",
       "  </tbody>\n",
       "</table>\n",
       "</div>"
      ],
      "text/plain": [
       "      word  appears_in  count  rank  pct_total  cul_pct_total  appears_in_pct\n",
       "200   good        2929   4370   1.0   0.016473       0.016473        0.477036\n",
       "100  great        2470   3418   2.0   0.012884       0.029358        0.402280\n",
       "35   check        2686   2941   3.0   0.011086       0.040444        0.437459\n",
       "190   like        1677   2434   4.0   0.009175       0.049619        0.273127\n",
       "12    love        1584   2077   5.0   0.007829       0.057449        0.257980"
      ]
     },
     "execution_count": 71,
     "metadata": {},
     "output_type": "execute_result"
    }
   ],
   "source": [
    "# good shops have a rating of 4 or 5:\n",
    "good_shops = count(shops[shops['star_rating'] > 3]['lemmas'])\n",
    "good_shops.head()"
   ]
  },
  {
   "cell_type": "code",
   "execution_count": 72,
   "metadata": {},
   "outputs": [
    {
     "data": {
      "text/html": [
       "<div>\n",
       "<style scoped>\n",
       "    .dataframe tbody tr th:only-of-type {\n",
       "        vertical-align: middle;\n",
       "    }\n",
       "\n",
       "    .dataframe tbody tr th {\n",
       "        vertical-align: top;\n",
       "    }\n",
       "\n",
       "    .dataframe thead th {\n",
       "        text-align: right;\n",
       "    }\n",
       "</style>\n",
       "<table border=\"1\" class=\"dataframe\">\n",
       "  <thead>\n",
       "    <tr style=\"text-align: right;\">\n",
       "      <th></th>\n",
       "      <th>word</th>\n",
       "      <th>appears_in</th>\n",
       "      <th>count</th>\n",
       "      <th>rank</th>\n",
       "      <th>pct_total</th>\n",
       "      <th>cul_pct_total</th>\n",
       "      <th>appears_in_pct</th>\n",
       "    </tr>\n",
       "  </thead>\n",
       "  <tbody>\n",
       "    <tr>\n",
       "      <th>31</th>\n",
       "      <td>good</td>\n",
       "      <td>643</td>\n",
       "      <td>993</td>\n",
       "      <td>1.0</td>\n",
       "      <td>0.013226</td>\n",
       "      <td>0.013226</td>\n",
       "      <td>0.435637</td>\n",
       "    </tr>\n",
       "    <tr>\n",
       "      <th>21</th>\n",
       "      <td>like</td>\n",
       "      <td>595</td>\n",
       "      <td>944</td>\n",
       "      <td>2.0</td>\n",
       "      <td>0.012573</td>\n",
       "      <td>0.025799</td>\n",
       "      <td>0.403117</td>\n",
       "    </tr>\n",
       "    <tr>\n",
       "      <th>84</th>\n",
       "      <td>order</td>\n",
       "      <td>431</td>\n",
       "      <td>764</td>\n",
       "      <td>3.0</td>\n",
       "      <td>0.010176</td>\n",
       "      <td>0.035974</td>\n",
       "      <td>0.292005</td>\n",
       "    </tr>\n",
       "    <tr>\n",
       "      <th>124</th>\n",
       "      <td>come</td>\n",
       "      <td>452</td>\n",
       "      <td>651</td>\n",
       "      <td>4.0</td>\n",
       "      <td>0.008671</td>\n",
       "      <td>0.044645</td>\n",
       "      <td>0.306233</td>\n",
       "    </tr>\n",
       "    <tr>\n",
       "      <th>22</th>\n",
       "      <td>drink</td>\n",
       "      <td>363</td>\n",
       "      <td>610</td>\n",
       "      <td>5.0</td>\n",
       "      <td>0.008125</td>\n",
       "      <td>0.052770</td>\n",
       "      <td>0.245935</td>\n",
       "    </tr>\n",
       "  </tbody>\n",
       "</table>\n",
       "</div>"
      ],
      "text/plain": [
       "      word  appears_in  count  rank  pct_total  cul_pct_total  appears_in_pct\n",
       "31    good         643    993   1.0   0.013226       0.013226        0.435637\n",
       "21    like         595    944   2.0   0.012573       0.025799        0.403117\n",
       "84   order         431    764   3.0   0.010176       0.035974        0.292005\n",
       "124   come         452    651   4.0   0.008671       0.044645        0.306233\n",
       "22   drink         363    610   5.0   0.008125       0.052770        0.245935"
      ]
     },
     "execution_count": 72,
     "metadata": {},
     "output_type": "execute_result"
    }
   ],
   "source": [
    "# bad shops have a rating of 1, 2, or 3:\n",
    "bad_shops = count(shops[shops['star_rating'] <= 3]['lemmas'])\n",
    "bad_shops.head()"
   ]
  },
  {
   "cell_type": "code",
   "execution_count": 73,
   "metadata": {},
   "outputs": [
    {
     "data": {
      "image/png": "[encoded data removed]",
      "text/plain": [
       "<Figure size 432x288 with 1 Axes>"
      ]
     },
     "metadata": {
      "needs_background": "light"
     },
     "output_type": "display_data"
    },
    {
     "data": {
      "image/png": "[encoded data removed]",
      "text/plain": [
       "<Figure size 432x288 with 1 Axes>"
      ]
     },
     "metadata": {
      "needs_background": "light"
     },
     "output_type": "display_data"
    }
   ],
   "source": [
    "#visualize:\n",
    "wc_top20_good = good_shops[good_shops['rank'] <= 20]\n",
    "\n",
    "squarify.plot(sizes=wc_top20_good['pct_total'], label=wc_top20_good['word'], alpha=.8 )\n",
    "plt.axis('off')\n",
    "plt.title(\"Top Words for 'Good' Coffee Shops\")\n",
    "plt.show()\n",
    "\n",
    "\n",
    "wc_top20_bad = bad_shops[bad_shops['rank'] <= 20]\n",
    "\n",
    "squarify.plot(sizes=wc_top20_bad['pct_total'], label=wc_top20_bad['word'], alpha=.8 )\n",
    "plt.axis('off')\n",
    "plt.title(\"Top Words for 'Bad' Coffee Shops\")\n",
    "plt.show()"
   ]
  },
  {
   "cell_type": "markdown",
   "metadata": {},
   "source": [
    "There appears to be a lot of similar words used to describe the 'good' and 'bad' coffee shops per the word maps. However, differences in the highly rated shops are more powerful words like \"friendly\", \"delicious\", and \"love\" that are used to describe people's experiences in a positive light. It would be a reasonable assumption in the case of the lower rated shops that words like \"service\", \"taste\", and \"$\" may have a negative connotation about their customer service, quality of products, and a higher price point. "
   ]
  },
  {
   "cell_type": "markdown",
   "metadata": {},
   "source": [
    "### 10 words with greatest difference between good and bad:"
   ]
  },
  {
   "cell_type": "code",
   "execution_count": 74,
   "metadata": {},
   "outputs": [],
   "source": [
    "# Not sure how to do this one"
   ]
  },
  {
   "cell_type": "markdown",
   "metadata": {},
   "source": [
    "### Look at words by individual ratings:"
   ]
  },
  {
   "cell_type": "code",
   "execution_count": 95,
   "metadata": {},
   "outputs": [
    {
     "data": {
      "image/png": "[encoded data removed]",
      "text/plain": [
       "<Figure size 432x288 with 1 Axes>"
      ]
     },
     "metadata": {},
     "output_type": "display_data"
    },
    {
     "data": {
      "image/png": "[encoded data removed]",
      "text/plain": [
       "<Figure size 432x288 with 1 Axes>"
      ]
     },
     "metadata": {},
     "output_type": "display_data"
    }
   ],
   "source": [
    "one_star = count(shops[shops['star_rating'] == 1]['lemmas'])\n",
    "\n",
    "wc_top20_one_star = one_star[one_star['rank'] <= 20]\n",
    "\n",
    "squarify.plot(sizes=wc_top20_one_star['pct_total'], label=wc_top20_one_star['word'], alpha=.8 )\n",
    "plt.axis('off')\n",
    "plt.title(\"Top Words for '1 Star' Coffee Shops\")\n",
    "plt.show()\n",
    "\n",
    "sns.set(style='whitegrid')\n",
    "ax = sns.barplot(x='word', y='pct_total', data=one_star[:10])\n",
    "plt.title(\"Top Words for '1 Star' Coffee Shops\")\n",
    "plt.show()"
   ]
  },
  {
   "cell_type": "code",
   "execution_count": 94,
   "metadata": {},
   "outputs": [
    {
     "data": {
      "image/png": "[encoded data removed]",
      "text/plain": [
       "<Figure size 432x288 with 1 Axes>"
      ]
     },
     "metadata": {},
     "output_type": "display_data"
    },
    {
     "data": {
      "image/png": "[encoded data removed]",
      "text/plain": [
       "<Figure size 432x288 with 1 Axes>"
      ]
     },
     "metadata": {},
     "output_type": "display_data"
    }
   ],
   "source": [
    "two_star = count(shops[shops['star_rating'] == 2]['lemmas'])\n",
    "\n",
    "wc_top20_two_star = two_star[two_star['rank'] <= 20]\n",
    "\n",
    "squarify.plot(sizes=wc_top20_two_star['pct_total'], label=wc_top20_two_star['word'], alpha=.8 )\n",
    "plt.axis('off')\n",
    "plt.title(\"Top Words for '2 Star' Coffee Shops\")\n",
    "plt.show()\n",
    "\n",
    "sns.set(style='whitegrid')\n",
    "ax = sns.barplot(x='word', y='pct_total', data=two_star[:10])\n",
    "plt.title(\"Top Words for '2 Star' Coffee Shops\")\n",
    "plt.show()"
   ]
  },
  {
   "cell_type": "code",
   "execution_count": 93,
   "metadata": {},
   "outputs": [
    {
     "data": {
      "image/png": "[encoded data removed]",
      "text/plain": [
       "<Figure size 432x288 with 1 Axes>"
      ]
     },
     "metadata": {},
     "output_type": "display_data"
    },
    {
     "data": {
      "image/png": "[encoded data removed]",
      "text/plain": [
       "<Figure size 432x288 with 1 Axes>"
      ]
     },
     "metadata": {},
     "output_type": "display_data"
    }
   ],
   "source": [
    "three_star = count(shops[shops['star_rating'] == 3]['lemmas'])\n",
    "\n",
    "wc_top20_three_star = three_star[three_star['rank'] <= 20]\n",
    "\n",
    "squarify.plot(sizes=wc_top20_three_star['pct_total'], label=wc_top20_three_star['word'], alpha=.8 )\n",
    "plt.axis('off')\n",
    "plt.title(\"Top Words for '3 Star' Coffee Shops\")\n",
    "plt.show()\n",
    "\n",
    "sns.set(style='whitegrid')\n",
    "ax = sns.barplot(x='word', y='pct_total', data=three_star[:10])\n",
    "plt.title(\"Top Words for '3 Star' Coffee Shops\")\n",
    "plt.show()"
   ]
  },
  {
   "cell_type": "code",
   "execution_count": 92,
   "metadata": {},
   "outputs": [
    {
     "data": {
      "image/png": "[encoded data removed]",
      "text/plain": [
       "<Figure size 432x288 with 1 Axes>"
      ]
     },
     "metadata": {},
     "output_type": "display_data"
    },
    {
     "data": {
      "image/png": "[encoded data removed]",
      "text/plain": [
       "<Figure size 432x288 with 1 Axes>"
      ]
     },
     "metadata": {},
     "output_type": "display_data"
    }
   ],
   "source": [
    "four_star = count(shops[shops['star_rating'] == 4]['lemmas'])\n",
    "\n",
    "wc_top20_four_star = four_star[four_star['rank'] <= 20]\n",
    "\n",
    "squarify.plot(sizes=wc_top20_four_star['pct_total'], label=wc_top20_four_star['word'], alpha=.8 )\n",
    "plt.axis('off')\n",
    "plt.title(\"Top Words for '4 Star' Coffee Shops\")\n",
    "plt.show()\n",
    "\n",
    "sns.set(style='whitegrid')\n",
    "ax = sns.barplot(x='word', y='pct_total', data=four_star[:10])\n",
    "plt.title(\"Top Words for '4 Star' Coffee Shops\")\n",
    "plt.show()"
   ]
  },
  {
   "cell_type": "code",
   "execution_count": 91,
   "metadata": {},
   "outputs": [
    {
     "data": {
      "image/png": "[encoded data removed]",
      "text/plain": [
       "<Figure size 432x288 with 1 Axes>"
      ]
     },
     "metadata": {},
     "output_type": "display_data"
    },
    {
     "data": {
      "image/png": "[encoded data removed]",
      "text/plain": [
       "<Figure size 432x288 with 1 Axes>"
      ]
     },
     "metadata": {},
     "output_type": "display_data"
    }
   ],
   "source": [
    "five_star = count(shops[shops['star_rating'] == 5]['lemmas'])\n",
    "\n",
    "wc_top20_five_star = five_star[five_star['rank'] <= 20]\n",
    "\n",
    "squarify.plot(sizes=wc_top20_five_star['pct_total'], label=wc_top20_five_star['word'], alpha=.8 )\n",
    "plt.axis('off')\n",
    "plt.title(\"Top Words for '5 Star' Coffee Shops\")\n",
    "plt.show()\n",
    "\n",
    "five_star.head()\n",
    "sns.set(style='whitegrid')\n",
    "ax = sns.barplot(x='word', y='pct_total', data=five_star[:10])\n",
    "plt.title(\"Top Words for '5 Star' Coffee Shops\")\n",
    "plt.show()"
   ]
  },
  {
   "cell_type": "markdown",
   "metadata": {
    "colab_type": "text",
    "id": "1dCb1q8XphcP",
    "toc-hr-collapsed": true
   },
   "source": [
    "## Stretch Goals\n",
    "\n",
    "* Analyze another corpus of documents - such as Indeed.com job listings ;).\n",
    "* Play with the Spacy API to\n",
    " - Extract Named Entities\n",
    " - Extracting 'noun chunks'\n",
    " - Attempt Document Classification with just Spacy\n",
    " - *Note:* This [course](https://course.spacy.io/) will be of interesting in helping you with these stretch goals. \n",
    "* Try to build a plotly dash app with your text data \n",
    "\n"
   ]
  }
 ],
 "metadata": {
  "colab": {
   "collapsed_sections": [],
   "name": "LS_DS_421_Text_Data_Assignment.ipynb",
   "provenance": [],
   "version": "0.3.2"
  },
  "kernelspec": {
   "display_name": "U4-S1-NLP (python 3.7)",
   "language": "python",
   "name": "u4-s1-nlp"
  },
  "language_info": {
   "codemirror_mode": {
    "name": "ipython",
    "version": 3
   },
   "file_extension": ".py",
   "mimetype": "text/x-python",
   "name": "python",
   "nbconvert_exporter": "python",
   "pygments_lexer": "ipython3",
   "version": "3.7.0"
  },
  "toc-autonumbering": false
 },
 "nbformat": 4,
 "nbformat_minor": 4
}
